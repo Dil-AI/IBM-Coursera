{
  "metadata": {
    "kernelspec": {
      "name": "python",
      "display_name": "Python (Pyodide)",
      "language": "python"
    },
    "language_info": {
      "codemirror_mode": {
        "name": "python",
        "version": 3
      },
      "file_extension": ".py",
      "mimetype": "text/x-python",
      "name": "python",
      "nbconvert_exporter": "python",
      "pygments_lexer": "ipython3",
      "version": "3.8"
    }
  },
  "nbformat_minor": 5,
  "nbformat": 4,
  "cells": [
    {
      "id": "cd53ad0e-e636-4dfb-b36f-756d6e3cca7e",
      "cell_type": "markdown",
      "source": "<h1>Data Science Tools</h1>\n<h1>Ecosystem</h1>",
      "metadata": {}
    },
    {
      "id": "4f137462-9be7-4e8c-8f79-317a65db1461",
      "cell_type": "markdown",
      "source": "In this notebook, Data Science Tools and Ecosystem are summarized.",
      "metadata": {}
    },
    {
      "id": "b753a522-f7e3-4320-bb10-cbf3a7e70080",
      "cell_type": "markdown",
      "source": "**Objectives**\n* List popular languages for Data Science\n* List commonly used libraries for Data Science\n* List commonly used development environment open source tools\n* Provide examples of arithmetic expression in Python",
      "metadata": {}
    },
    {
      "id": "e91a252e-f39f-47b3-b47a-7a3bbdf69d66",
      "cell_type": "markdown",
      "source": "Some of the popular languages that Data Scientists use are:\n1. R\n2. Python\n3. SQL",
      "metadata": {}
    },
    {
      "id": "53c66dca-ddf7-4665-8784-bf60fc5e0704",
      "cell_type": "markdown",
      "source": "Some of the commonly used libraries used by Data Scientists include:\n1. dplyr\n2. ggplot2\n3. numpy\n4. pandas\n5. matplotlib",
      "metadata": {}
    },
    {
      "id": "6f5e9bac-59e6-443f-9f10-7b9908eead7e",
      "cell_type": "markdown",
      "source": "| Data Science Tools |\n| ------------------ |\n| R studio |\n| Jupyter Notebook |\n| Git |\n\n",
      "metadata": {}
    },
    {
      "id": "8bed620f-8c16-41cc-beba-c1daf106b31c",
      "cell_type": "markdown",
      "source": "<h3>Below are a few examples of evaluating arithmetic expressions in Python.</h3>\n",
      "metadata": {}
    },
    {
      "id": "e826516f-d2e8-4f38-b60e-9087a7342152",
      "cell_type": "code",
      "source": "#e.g. This a simple arithmetic expression to mutiply then add integers.\n(3*4)+5",
      "metadata": {
        "trusted": true
      },
      "outputs": [
        {
          "execution_count": 6,
          "output_type": "execute_result",
          "data": {
            "text/plain": "17"
          },
          "metadata": {}
        }
      ],
      "execution_count": 6
    },
    {
      "id": "8ca8ec94-f4ba-489f-9094-93de580754dd",
      "cell_type": "code",
      "source": "# e.g. This will convert 200 minutes to hours by diving by 60.\nminutes = 200\nhours = minutes/60\nprint(hours)",
      "metadata": {
        "trusted": true
      },
      "outputs": [
        {
          "name": "stdout",
          "output_type": "stream",
          "text": "3.3333333333333335\n"
        }
      ],
      "execution_count": 7
    },
    {
      "id": "47dcdc53-f2fd-4513-bb26-02685b2d10b6",
      "cell_type": "markdown",
      "source": "<h2>Author</h2>\nDilmith",
      "metadata": {}
    },
    {
      "id": "af8bc4ef-01fe-4785-b08d-863681f5b818",
      "cell_type": "code",
      "source": "",
      "metadata": {
        "trusted": true
      },
      "outputs": [],
      "execution_count": null
    }
  ]
}